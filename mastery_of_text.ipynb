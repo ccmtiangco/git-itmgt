{
 "cells": [
  {
   "cell_type": "code",
   "execution_count": 1,
   "id": "30db977a",
   "metadata": {},
   "outputs": [
    {
     "name": "stdout",
     "output_type": "stream",
     "text": [
      "Success: The text has been downloaded and stored in the 'pg10' variable.\n",
      "The text contains 4451818 characters.\n"
     ]
    }
   ],
   "source": [
    "import urllib.request\n",
    "\n",
    "# Define the URL of the text file\n",
    "url = \"https://www.gutenberg.org/cache/epub/10/pg10.txt\"\n",
    "\n",
    "# Store the downloaded text in this variable\n",
    "pg10 = \"\"\n",
    "\n",
    "try:\n",
    "    # Open the URL and get a response object\n",
    "    response = urllib.request.urlopen(url)\n",
    "    \n",
    "    # Read the content from the response, which is in raw bytes\n",
    "    raw_text = response.read()\n",
    "    \n",
    "    # Decode the bytes into a human-readable string using UTF-8 encoding\n",
    "    pg10 = raw_text.decode('utf-8')\n",
    "    \n",
    "    print(\"Success: The text has been downloaded and stored in the 'pg10' variable.\")\n",
    "    print(f\"The text contains {len(pg10)} characters.\")\n",
    "\n",
    "except Exception as e:\n",
    "    print(f\"An error occurred: {e}\")"
   ]
  },
  {
   "cell_type": "code",
   "execution_count": 2,
   "id": "b6c80829",
   "metadata": {},
   "outputs": [
    {
     "name": "stdout",
     "output_type": "stream",
     "text": [
      "Answer 1: The string has 99969 lines.\n"
     ]
    }
   ],
   "source": [
    "# A line is defined by the newline character '\\n'\n",
    "# We can split the entire string into a list of lines\n",
    "lines = pg10.split('\\n')\n",
    "\n",
    "# The total number of lines is the length of the list\n",
    "line_count = len(lines)\n",
    "\n",
    "print(f\"Answer 1: The string has {line_count} lines.\")"
   ]
  },
  {
   "cell_type": "code",
   "execution_count": 3,
   "id": "baa051ae",
   "metadata": {},
   "outputs": [
    {
     "name": "stdout",
     "output_type": "stream",
     "text": [
      "Answer 2: The string has 795227 words.\n"
     ]
    }
   ],
   "source": [
    "# This list will store all the valid words found in the text\n",
    "all_words = []\n",
    "# This string will temporarily build up the current word as we scan the text\n",
    "current_word = \"\"\n",
    "\n",
    "# We convert the whole text to lowercase once to handle case-insensitivity for all questions\n",
    "for char in pg10.lower():\n",
    "    # Check if the character is an alphabet letter\n",
    "    if 'a' <= char <= 'z':\n",
    "        # If it is, add it to the current word being built\n",
    "        current_word += char\n",
    "    else:\n",
    "        # If it's not a letter (e.g., space, punctuation, number), the word has ended\n",
    "        if current_word:  # Make sure the word is not empty\n",
    "            all_words.append(current_word)\n",
    "        # Reset current_word to start looking for the next word\n",
    "        current_word = \"\"\n",
    "\n",
    "# After the loop, we need to add the very last word if the text ends on a letter\n",
    "if current_word:\n",
    "    all_words.append(current_word)\n",
    "\n",
    "word_count = len(all_words)\n",
    "print(f\"Answer 2: The string has {word_count} words.\")"
   ]
  },
  {
   "cell_type": "code",
   "execution_count": 4,
   "id": "112c48a6",
   "metadata": {},
   "outputs": [
    {
     "name": "stdout",
     "output_type": "stream",
     "text": [
      "Answer 3: The word 'apostle', ignoring capitalization, appears 47 times.\n"
     ]
    }
   ],
   "source": [
    "# We can use the built-in count() method on our list of words\n",
    "apostle_count = all_words.count(\"apostle\")\n",
    "\n",
    "print(f\"Answer 3: The word 'apostle', ignoring capitalization, appears {apostle_count} times.\")"
   ]
  },
  {
   "cell_type": "code",
   "execution_count": 5,
   "id": "3da1f1e3",
   "metadata": {},
   "outputs": [
    {
     "name": "stdout",
     "output_type": "stream",
     "text": [
      "Answer 4: The most common word is 'the', which appears 64309 times.\n"
     ]
    }
   ],
   "source": [
    "# Create an empty dictionary to store word frequencies\n",
    "word_frequencies = {}\n",
    "\n",
    "# Loop through our list of words to count each one\n",
    "for word in all_words:\n",
    "    word_frequencies[word] = word_frequencies.get(word, 0) + 1\n",
    "\n",
    "# Now, find the word with the highest count\n",
    "most_common_word = None\n",
    "max_count = 0\n",
    "\n",
    "for word, count in word_frequencies.items():\n",
    "    if count > max_count:\n",
    "        max_count = count\n",
    "        most_common_word = word\n",
    "\n",
    "print(f\"Answer 4: The most common word is '{most_common_word}', which appears {max_count} times.\")"
   ]
  }
 ],
 "metadata": {
  "kernelspec": {
   "display_name": "base",
   "language": "python",
   "name": "python3"
  },
  "language_info": {
   "codemirror_mode": {
    "name": "ipython",
    "version": 3
   },
   "file_extension": ".py",
   "mimetype": "text/x-python",
   "name": "python",
   "nbconvert_exporter": "python",
   "pygments_lexer": "ipython3",
   "version": "3.13.5"
  }
 },
 "nbformat": 4,
 "nbformat_minor": 5
}
